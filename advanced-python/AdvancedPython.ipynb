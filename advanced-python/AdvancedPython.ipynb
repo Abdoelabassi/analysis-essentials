{
 "cells": [
  {
   "cell_type": "markdown",
   "metadata": {},
   "source": [
    "# Advanced Python Concepts\n",
    "\n",
    "In this tutorial, a few advanced concepts (not class related) are introduced. This includes\n",
    "\n",
    "- packing and unpacking\n",
    "- context manager\n",
    "- decorator and factories"
   ]
  },
  {
   "cell_type": "code",
   "execution_count": null,
   "metadata": {},
   "outputs": [],
   "source": [
    "import time"
   ]
  },
  {
   "cell_type": "markdown",
   "metadata": {},
   "source": [
    "## Packing and unpacking of values\n",
    "\n",
    "Using `*` or `**` we can pack/unpack list-like objects and dict-like objects, respectively.\n",
    "\n",
    "Let's play around..."
   ]
  },
  {
   "cell_type": "code",
   "execution_count": null,
   "metadata": {},
   "outputs": [],
   "source": [
    "a, c, *b = [3, 4, 4.5, 5, 6]"
   ]
  },
  {
   "cell_type": "code",
   "execution_count": null,
   "metadata": {},
   "outputs": [],
   "source": [
    "b"
   ]
  },
  {
   "cell_type": "code",
   "execution_count": null,
   "metadata": {},
   "outputs": [],
   "source": [
    "a = [3, 4, 5]"
   ]
  },
  {
   "cell_type": "code",
   "execution_count": null,
   "metadata": {},
   "outputs": [],
   "source": [
    "d, e, f, g, h, i = *a, *b"
   ]
  },
  {
   "cell_type": "markdown",
   "metadata": {},
   "source": [
    "Now we should be able to understand the `*args` and `**kwargs` for functions. Let's look at it:"
   ]
  },
  {
   "cell_type": "code",
   "execution_count": null,
   "metadata": {},
   "outputs": [],
   "source": [
    "def func(*args, **kwargs):\n",
    "    print(f'args are {args}')\n",
    "    print(f\"kwargs are {kwargs}\")"
   ]
  },
  {
   "cell_type": "code",
   "execution_count": null,
   "metadata": {},
   "outputs": [],
   "source": [
    "mykwargs = {'a': 5, 'b': 3}\n",
    "myargs = [1, 3, 4]\n",
    "func(*myargs, *mykwargs)"
   ]
  },
  {
   "cell_type": "code",
   "execution_count": null,
   "metadata": {},
   "outputs": [],
   "source": [
    "func(5, a=4)"
   ]
  },
  {
   "cell_type": "code",
   "execution_count": null,
   "metadata": {},
   "outputs": [],
   "source": [
    "# play around with it!"
   ]
  },
  {
   "cell_type": "markdown",
   "metadata": {},
   "source": [
    "## Context manager\n",
    "\n",
    "A context manager is an object that responds to a `with` statement. It may returns something. The basic idea is that some action is performed when entering a context and again when exiting it.\n",
    "\n",
    "```\n",
    "with context as var:\n",
    "    # do something\n",
    "```\n",
    "translates to\n",
    "```\n",
    "# execute context entering code\n",
    "var = return_from_context_entering_code\n",
    "# do something\n",
    "# execute context leaving code\n",
    "```\n",
    "\n",
    "The great advantage here is that the \"leaving code\" is automatically executed whenever we step out of the context!\n",
    "\n",
    "This proved to be incredibly useful when operations have cleanup code that we need to execute yet that is tedious to write manually and can be forgotten.\n",
    "\n",
    "### Using `yield`\n",
    "\n",
    "One way to create a context manager is to have a function that has a `yield`.\n",
    "\n",
    "_What is `yield`?_: It's like a return, except that the executioin stops at the `yield`, let's other code execute and, at some point, **continues** again where the yield was. Examples are:\n",
    "- iterator: a function that yields elements. Everytime it is called, it is supposed to yield an element and then continue from there\n",
    "- asynchronous programing: it stops and waits until something else is finished\n",
    "- in the context manager, as we will see"
   ]
  },
  {
   "cell_type": "code",
   "execution_count": null,
   "metadata": {},
   "outputs": [],
   "source": [
    "import contextlib\n",
    "\n",
    "@contextlib.contextmanager\n",
    "def printer(x):\n",
    "    print(f'we just entered the context manager and will yield {x}')\n",
    "    yield x\n",
    "    print(f'Finishing the context manager, exiting')"
   ]
  },
  {
   "cell_type": "code",
   "execution_count": null,
   "metadata": {},
   "outputs": [],
   "source": [
    "with printer(5) as number:\n",
    "    print(f\"we're inside, with number={number}\")\n",
    "print(\"left manager\")"
   ]
  },
  {
   "cell_type": "markdown",
   "metadata": {},
   "source": [
    "#### Where is this useful\n",
    "\n",
    "Basically with stateful objects. This includes anything that can be set and changed (mutable objects)."
   ]
  },
  {
   "cell_type": "code",
   "execution_count": null,
   "metadata": {},
   "outputs": [],
   "source": [
    "with open('tmp.txt', 'w') as textfile:\n",
    "    textfile.write('asdf')"
   ]
  },
  {
   "cell_type": "markdown",
   "metadata": {},
   "source": [
    "The implementation roughly looks like this:"
   ]
  },
  {
   "cell_type": "code",
   "execution_count": null,
   "metadata": {},
   "outputs": [],
   "source": [
    "import contextlib\n",
    "\n",
    "@contextlib.contextmanager\n",
    "def myopen(f, mode):\n",
    "    opened = open(f, mode)\n",
    "    yield opened\n",
    "    opened.close()\n",
    "    "
   ]
  },
  {
   "cell_type": "markdown",
   "metadata": {},
   "source": [
    "**Exercise**: create a context manager that _temporarily_ sets a `'value'` key to 42 of a dict and switches it back to the old value on exit"
   ]
  },
  {
   "cell_type": "code",
   "execution_count": null,
   "metadata": {},
   "outputs": [],
   "source": [
    "testdict = {'value': 11, 'name': 'the answer'}"
   ]
  },
  {
   "cell_type": "markdown",
   "metadata": {},
   "source": [
    "to be invoked like this\n",
    "\n",
    "```python\n",
    "with manager(testdict) as obj:\n",
    "    # here the value is 42\n",
    "# here the value is 11\n",
    "```"
   ]
  },
  {
   "cell_type": "code",
   "execution_count": null,
   "metadata": {},
   "outputs": [],
   "source": [
    "# SOLUTION\n",
    "@contextlib.contextmanager\n",
    "def func(x):\n",
    "    yield x\n",
    "\n",
    "with func(5) as var1:\n",
    "    print('inside')\n",
    "print(var1)"
   ]
  },
  {
   "cell_type": "code",
   "execution_count": null,
   "metadata": {},
   "outputs": [],
   "source": [
    "@contextlib.contextmanager\n",
    "def set_answer(obj):\n",
    "    old_value = obj.get('value')\n",
    "    obj['value'] = 42\n",
    "    yield obj\n",
    "    obj['value'] = old_value"
   ]
  },
  {
   "cell_type": "markdown",
   "metadata": {},
   "source": [
    "## Using a class\n",
    "\n",
    "Instead of using the `yield`, we can have advanced control over the enter and exit methods by creating a class and implementing the two methods `__enter__` and `__exit__`"
   ]
  },
  {
   "cell_type": "code",
   "execution_count": null,
   "metadata": {},
   "outputs": [],
   "source": [
    "class MyContext:\n",
    "    \n",
    "    def __init__(self, x):\n",
    "        self.x = x\n",
    "    \n",
    "    def __enter__(self):\n",
    "        x = self.x\n",
    "        print('entered')\n",
    "        return x ** 2\n",
    "    \n",
    "    def __exit__(self, type_, value, traceback):  # but let's not go into things in detail here\n",
    "        self.x = 42\n",
    "        print('exited')"
   ]
  },
  {
   "cell_type": "code",
   "execution_count": null,
   "metadata": {},
   "outputs": [],
   "source": [
    "with MyContext(5) as x:\n",
    "    print(x)"
   ]
  },
  {
   "cell_type": "markdown",
   "metadata": {},
   "source": [
    "While a class is way more powerful and offers ways to catch exceptions and more in the exit, ususally the functional way is enough and should then be preferred. If it doesn't give you enough flexibility, remember the class, look it up and figure out all the things needed."
   ]
  },
  {
   "cell_type": "markdown",
   "metadata": {},
   "source": [
    "## Decorators and factories\n",
    "\n",
    "Sometimes we can't write a function fully by hand but want to create it programatically. This pattern is called a \"factory\". To achieve this, instead of having a function that returns an integer (an object), a list (an object), a dict (an object) or an array (an object), we return a function (an object). We see that the concept of Python, \"everything is an object\", starts being very useful here."
   ]
  },
  {
   "cell_type": "code",
   "execution_count": null,
   "metadata": {},
   "outputs": [],
   "source": [
    "def make_power_func(power):\n",
    "    def func(x):\n",
    "        return x ** power\n",
    "    return func"
   ]
  },
  {
   "cell_type": "code",
   "execution_count": null,
   "metadata": {},
   "outputs": [],
   "source": [
    "pow3 = make_power_func(3)"
   ]
  },
  {
   "cell_type": "code",
   "execution_count": null,
   "metadata": {},
   "outputs": [],
   "source": [
    "pow3(2)"
   ]
  },
  {
   "cell_type": "code",
   "execution_count": null,
   "metadata": {},
   "outputs": [],
   "source": [
    "def make_power_func(power):\n",
    "    def func(x):\n",
    "        return x ** power\n",
    "    power = 42\n",
    "    return func"
   ]
  },
  {
   "cell_type": "code",
   "execution_count": null,
   "metadata": {},
   "outputs": [],
   "source": [
    "pow3 = make_power_func(3)"
   ]
  },
  {
   "cell_type": "code",
   "execution_count": null,
   "metadata": {},
   "outputs": [],
   "source": [
    "pow3(2)"
   ]
  },
  {
   "cell_type": "code",
   "execution_count": null,
   "metadata": {},
   "outputs": [],
   "source": [
    "# Exercise: test it here"
   ]
  },
  {
   "cell_type": "markdown",
   "metadata": {},
   "source": [
    "Another example is to create a timing wrapper. **Exercise**: create a timing function that can be used as follows\n",
    "\n",
    "```\n",
    "timed_pow3 = fime_func(pow3)\n",
    "pow3(...)\n",
    "```"
   ]
  },
  {
   "cell_type": "markdown",
   "metadata": {},
   "source": [
    "HINT, scetch of solution\n",
    "```python\n",
    "def time_func(func):\n",
    "    def new_func(...):\n",
    "        print('start')\n",
    "        func(...)\n",
    "        print('stop')\n",
    "    return new_func\n",
    "```"
   ]
  },
  {
   "cell_type": "code",
   "execution_count": null,
   "metadata": {},
   "outputs": [],
   "source": [
    "# SOLUTION\n",
    "def timed_func(func):\n",
    "    def wrapped_func(*args, **kwargs):\n",
    "        print(args)\n",
    "        print(kwargs)\n",
    "        start = time.time()\n",
    "        func(*args, **kwargs)\n",
    "        end = time.time()\n",
    "        print(f'time needed: {end - start}')\n",
    "    return wrapped_func"
   ]
  },
  {
   "cell_type": "code",
   "execution_count": null,
   "metadata": {},
   "outputs": [],
   "source": [
    "def add_notime(x, y):\n",
    "    return x + y"
   ]
  },
  {
   "cell_type": "code",
   "execution_count": null,
   "metadata": {},
   "outputs": [],
   "source": [
    "add_timed = timed_func(add_notime)"
   ]
  },
  {
   "cell_type": "code",
   "execution_count": null,
   "metadata": {},
   "outputs": [],
   "source": [
    "import time"
   ]
  },
  {
   "cell_type": "code",
   "execution_count": null,
   "metadata": {},
   "outputs": [],
   "source": [
    "add_timed(y=4, x=5)"
   ]
  },
  {
   "cell_type": "code",
   "execution_count": null,
   "metadata": {},
   "outputs": [],
   "source": [
    "# test it here"
   ]
  },
  {
   "cell_type": "markdown",
   "metadata": {},
   "source": [
    "## Decorator\n",
    "\n",
    "There is another way, just syntactical sugar, to make this automatic: a decorator. It is invoked as below"
   ]
  },
  {
   "cell_type": "code",
   "execution_count": null,
   "metadata": {},
   "outputs": [],
   "source": [
    "@timed_func\n",
    "def add(x, y):\n",
    "    return x + y"
   ]
  },
  {
   "cell_type": "markdown",
   "metadata": {},
   "source": [
    "Again, as for the contextmanager, we can also use a class here to give more flexibility and create a decorator that takes _arguments_."
   ]
  }
 ],
 "metadata": {
  "kernelspec": {
   "display_name": "Python 3",
   "language": "python",
   "name": "python3"
  },
  "language_info": {
   "codemirror_mode": {
    "name": "ipython",
    "version": 3
   },
   "file_extension": ".py",
   "mimetype": "text/x-python",
   "name": "python",
   "nbconvert_exporter": "python",
   "pygments_lexer": "ipython3",
   "version": "3.8.6"
  }
 },
 "nbformat": 4,
 "nbformat_minor": 4
}

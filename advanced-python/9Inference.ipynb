{
 "cells": [
  {
   "cell_type": "markdown",
   "metadata": {},
   "source": [
    "# Likelihood inference\n",
    "\n",
    "In most analysis, fitting a model to data is a crucial, last step in the chain in order to extract the information about the parameters of interest.\n",
    "\n",
    "**Model**: First, this involves building a model that depends on various parameters - some that are of immediate interest to us (Parameter Of Interest, POI) and some that help to describe the observables that we expect in the data but do not have any relevant physical meaning such as detectoreffects (Nuisance Parameter).\n",
    "\n",
    "**Loss**: With the model and the data, a likelihood (or sometimes also a $\\chi^2$ loss) is built. This is a function of the parameters and reflects the _likelihood of finding the data given the parameters_. The most likely parameter combination is retrieved when maximising the likelihood; also called the Maximum Likelihood (ML) estimator. Except for trivial cases, this has to be done numerically.\n",
    "\n",
    "While this procedure returns an estimate of the _best-fit_, it does not say anything about the _uncertainty_ of our measurement. Therefore, advanced statistical methods are needed that perform toy studies; these are fits to generated samples under different conditions such as fixing a parameter to a certain value."
   ]
  },
  {
   "cell_type": "markdown",
   "metadata": {},
   "source": [
    "## Scope of this tutorial\n",
    "\n",
    "Here, we focus on the libraries that are available to perform likelihood fits. For unbinned fits in Python, the libraries that we will consider here are `zfit` (likelihood model fitting library) and `hepstats` (higher level statistical inference; can use `zfit` models), both which are relatively young and written in pure Python.\n",
    "\n",
    "An alternative to be mentioned is `RooFit` and `RooStats`, an older, well-proven, reliable C++ framework that has Python bindings and acts as a standard in HEP for this kind of fits.\n",
    "\n",
    "In case your analysis involved pure binned and templated fits, [pyhf](https://github.com/scikit-hep/pyhf) provides a specialized library for this kind of fits.\n",
    "\n",
    "## Getting started\n",
    "\n",
    "In order to getting started with `zfit`, it is recommendable to have a look at the [zfit-tutorials](https://github.com/zfit/zfit-tutorials) or the [recorded](https://www.youtube.com/playlist?list=PLAuzjeTfC3tNeP6o2sbCr3Jsa6ATvEYR6) [tutorials](https://www.youtube.com/watch?v=YDW-XxrSbns), which also contains `hepstats` tutorials; more the latter can be found [here](https://github.com/scikit-hep/hepstats/tree/master/notebooks).\n",
    "\n",
    "Before we continue, it is highly recommended to follow the [zfit introduction tutorial](https://github.com/zfit/zfit-tutorials/blob/master/Introduction.ipynb)"
   ]
  },
  {
   "cell_type": "code",
   "execution_count": 1,
   "metadata": {},
   "outputs": [],
   "source": [
    "%store -r bkg_df\n",
    "%store -r mc_df\n",
    "%store -r data_df"
   ]
  },
  {
   "cell_type": "code",
   "execution_count": 2,
   "metadata": {},
   "outputs": [],
   "source": [
    "import numpy as np\n",
    "import zfit\n",
    "import hepstats"
   ]
  },
  {
   "cell_type": "markdown",
   "metadata": {},
   "source": [
    "**Exercise**: write a fit to the data using `zfit`"
   ]
  },
  {
   "cell_type": "code",
   "execution_count": null,
   "metadata": {},
   "outputs": [],
   "source": []
  },
  {
   "cell_type": "markdown",
   "metadata": {},
   "source": [
    "**Exercise**: use `hepstats` to check the significance of our signal"
   ]
  },
  {
   "cell_type": "code",
   "execution_count": null,
   "metadata": {},
   "outputs": [],
   "source": []
  }
 ],
 "metadata": {
  "kernelspec": {
   "display_name": "Python 3",
   "language": "python",
   "name": "python3"
  },
  "language_info": {
   "codemirror_mode": {
    "name": "ipython",
    "version": 3
   },
   "file_extension": ".py",
   "mimetype": "text/x-python",
   "name": "python",
   "nbconvert_exporter": "python",
   "pygments_lexer": "ipython3",
   "version": "3.8.6"
  }
 },
 "nbformat": 4,
 "nbformat_minor": 4
}

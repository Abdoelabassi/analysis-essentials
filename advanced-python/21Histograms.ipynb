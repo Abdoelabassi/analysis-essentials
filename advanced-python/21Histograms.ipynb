{
 "cells": [
  {
   "cell_type": "markdown",
   "metadata": {
    "collapsed": true,
    "pycharm": {
     "name": "#%% md\n"
    }
   },
   "source": [
    "In nearly every High Energy Physics analysis, histograms have their place:\n",
    "- plotting of variables\n",
    "- calculating efficiency correction tables (weights)\n",
    "- performing binned fits\n",
    "\n",
    "and many more.\n",
    "\n",
    "Scikit-HEP offers libraries to deal with histograms in Python in a performant way:\n",
    "[hist](https://hist.readthedocs.io/en/latest/) is a user-friendly analysis library for histograms\n",
    "and is directly built on top of the workhorse [boost-histogram](https://boost-histogram.readthedocs.io/en/latest/),\n",
    "which can also be used directly. Hist simply provides more functionality.\n",
    "\n",
    "They are written by the same authors and can also be used often together.\n",
    "\n",
    "Both also work well together with mplhep, the plotting library."
   ]
  },
  {
   "cell_type": "code",
   "execution_count": null,
   "metadata": {
    "pycharm": {
     "name": "#%%\n"
    }
   },
   "outputs": [],
   "source": [
    "# jupyter magic to load the previous data sets\n",
    "%store -r bkg_df\n",
    "%store -r mc_df\n",
    "%store -r data_df\n",
    "\n",
    "import boost_histogram as bh\n",
    "import mplhep"
   ]
  },
  {
   "cell_type": "code",
   "execution_count": null,
   "metadata": {
    "pycharm": {
     "name": "#%%\n"
    }
   },
   "outputs": [],
   "source": [
    "# Let's get started with a simple example\n",
    "\n",
    "# Compose axis however you like; this is a 2D histogram\n",
    "hist = bh.Histogram(bh.axis.Regular(2, 0, 1),\n",
    "                    bh.axis.Regular(4, 0.0, 1.0))\n",
    "\n",
    "# Filling can be done with arrays, one per dimension\n",
    "hist.fill([.3, .5, .2],\n",
    "          [.1, .4, .9])\n",
    "\n",
    "# NumPy array view into histogram counts, no overflow bins\n",
    "counts = hist.view()\n",
    "variances = hist.variances()\n",
    "mplhep.hist2dplot(hist)"
   ]
  },
  {
   "cell_type": "markdown",
   "metadata": {
    "pycharm": {
     "name": "#%% md\n"
    }
   },
   "source": [
    "## Axes\n",
    "\n",
    "A cental part of a histogram are the axes: They difine the binning and other treats of the axis.\n",
    "\n",
    "A Hist (*this refers by default to hist.Hist, but usually also applies for bh.Histogram as the former inherits\n",
    "from the latter*) can have multiple axes of different types.\n",
    "\n",
    "All axes are described [here](https://hist.readthedocs.io/en/latest/user-guide/axes.html#axes).\n",
    "\n",
    "\n",
    "\n",
    "The most important types are\n",
    "\n",
    "\n",
    "### Regular\n",
    "\n",
    "This is an axis with lower, upper limits, **regularly** split into n bins.\n",
    "\n",
    "```\n",
    "axis_reg = hist.axis.Regular(nbins, lower, upper, name=name)\n",
    "```\n",
    "\n",
    "### Variable\n",
    "\n",
    "A variable axis allows to set the bin edges arbitrarily using an array-like object.mro\n",
    "```\n",
    "axis_var = hist.axis.Variable([0, 0.5, 3.1, 3.4], name=\"C\")\n",
    "```\n",
    "\n",
    "## Axes Name\n",
    "\n",
    "Axes (in hist, in bh only a label is possible) have a name, which can be used as the identifier\n",
    "when working with the histogram (instead of using plain integer indexes)."
   ]
  },
  {
   "cell_type": "code",
   "execution_count": null,
   "metadata": {
    "pycharm": {
     "name": "#%%\n"
    }
   },
   "outputs": [],
   "source": [
    "# hist3D = (\n",
    "#     hist.Hist\n",
    "#         .Regular(10, 0, 100, circular=True, name=\"x\")\n",
    "#         .Regular(10, 0.0, 10.0, name=\"y\")\n",
    "#         .Variable([1, 2, 3, 4, 5, 5.5, 6], name=\"z\")\n",
    "#         .Weight()\n",
    "# )"
   ]
  }
 ],
 "metadata": {
  "kernelspec": {
   "display_name": "Python 3 (ipykernel)",
   "language": "python",
   "name": "python3"
  },
  "language_info": {
   "codemirror_mode": {
    "name": "ipython",
    "version": 3
   },
   "file_extension": ".py",
   "mimetype": "text/x-python",
   "name": "python",
   "nbconvert_exporter": "python",
   "pygments_lexer": "ipython3",
   "version": "3.9.7"
  }
 },
 "nbformat": 4,
 "nbformat_minor": 1
}